{
 "cells": [
  {
   "cell_type": "markdown",
   "id": "1490a407",
   "metadata": {},
   "source": [
    "# データの確認"
   ]
  },
  {
   "cell_type": "code",
   "execution_count": null,
   "id": "c8ace259",
   "metadata": {},
   "outputs": [],
   "source": [
    "import sqlite3\n",
    "import pandas as pd\n",
    "import numpy as np"
   ]
  },
  {
   "cell_type": "code",
   "execution_count": null,
   "id": "631c15ad",
   "metadata": {},
   "outputs": [],
   "source": [
    "# データベースに接続\n",
    "db_path = r\"c:\\Users\\kengo\\Desktop\\Bayesian_changepoint_detection\\data\\browser_log.db\"\n",
    "conn = sqlite3.connect(db_path)\n",
    "\n",
    "# 2つ目のDBをアタッチ\n",
    "# conn.execute(f\"ATTACH DATABASE '{second_db_path}' AS master\")\n",
    "\n",
    "# テーブル名を設定\n",
    "table_name = \"browserlog_201902\"  # 抽出したいテーブル名\n",
    "\n",
    "# SQL文を実行\n",
    "query = f\"\"\"\n",
    "SELECT \n",
    "    sample_id,\n",
    "    COUNT(*) as count\n",
    "FROM {table_name}\n",
    "GROUP BY sample_id\n",
    "\"\"\"\n",
    "\n",
    "# 結果を取得\n",
    "df = pd.read_sql_query(query, conn)\n",
    "\n",
    "# 接続を閉じる\n",
    "conn.close()"
   ]
  },
  {
   "cell_type": "code",
   "execution_count": 32,
   "id": "b04736f3",
   "metadata": {},
   "outputs": [
    {
     "data": {
      "text/html": [
       "<div>\n",
       "<style scoped>\n",
       "    .dataframe tbody tr th:only-of-type {\n",
       "        vertical-align: middle;\n",
       "    }\n",
       "\n",
       "    .dataframe tbody tr th {\n",
       "        vertical-align: top;\n",
       "    }\n",
       "\n",
       "    .dataframe thead th {\n",
       "        text-align: right;\n",
       "    }\n",
       "</style>\n",
       "<table border=\"1\" class=\"dataframe\">\n",
       "  <thead>\n",
       "    <tr style=\"text-align: right;\">\n",
       "      <th></th>\n",
       "      <th>sample_id</th>\n",
       "      <th>count</th>\n",
       "    </tr>\n",
       "  </thead>\n",
       "  <tbody>\n",
       "    <tr>\n",
       "      <th>0</th>\n",
       "      <td>41p50ABL</td>\n",
       "      <td>2587</td>\n",
       "    </tr>\n",
       "    <tr>\n",
       "      <th>1</th>\n",
       "      <td>41p50OKL</td>\n",
       "      <td>345</td>\n",
       "    </tr>\n",
       "    <tr>\n",
       "      <th>2</th>\n",
       "      <td>41p510EL</td>\n",
       "      <td>3398</td>\n",
       "    </tr>\n",
       "    <tr>\n",
       "      <th>3</th>\n",
       "      <td>41p51dYL</td>\n",
       "      <td>2</td>\n",
       "    </tr>\n",
       "    <tr>\n",
       "      <th>4</th>\n",
       "      <td>41p51lBL</td>\n",
       "      <td>1543</td>\n",
       "    </tr>\n",
       "    <tr>\n",
       "      <th>...</th>\n",
       "      <td>...</td>\n",
       "      <td>...</td>\n",
       "    </tr>\n",
       "    <tr>\n",
       "      <th>49570</th>\n",
       "      <td>wv5nyEG4</td>\n",
       "      <td>2431</td>\n",
       "    </tr>\n",
       "    <tr>\n",
       "      <th>49571</th>\n",
       "      <td>wv5nyVe4</td>\n",
       "      <td>704</td>\n",
       "    </tr>\n",
       "    <tr>\n",
       "      <th>49572</th>\n",
       "      <td>wv5nynx4</td>\n",
       "      <td>962</td>\n",
       "    </tr>\n",
       "    <tr>\n",
       "      <th>49573</th>\n",
       "      <td>wv5nzDK4</td>\n",
       "      <td>101</td>\n",
       "    </tr>\n",
       "    <tr>\n",
       "      <th>49574</th>\n",
       "      <td>wv5nzo24</td>\n",
       "      <td>3920</td>\n",
       "    </tr>\n",
       "  </tbody>\n",
       "</table>\n",
       "<p>49575 rows × 2 columns</p>\n",
       "</div>"
      ],
      "text/plain": [
       "      sample_id  count\n",
       "0      41p50ABL   2587\n",
       "1      41p50OKL    345\n",
       "2      41p510EL   3398\n",
       "3      41p51dYL      2\n",
       "4      41p51lBL   1543\n",
       "...         ...    ...\n",
       "49570  wv5nyEG4   2431\n",
       "49571  wv5nyVe4    704\n",
       "49572  wv5nynx4    962\n",
       "49573  wv5nzDK4    101\n",
       "49574  wv5nzo24   3920\n",
       "\n",
       "[49575 rows x 2 columns]"
      ]
     },
     "metadata": {},
     "output_type": "display_data"
    }
   ],
   "source": [
    "# 結果を表示\n",
    "display(df)\n",
    "# print(df)"
   ]
  }
 ],
 "metadata": {
  "kernelspec": {
   "display_name": ".venv",
   "language": "python",
   "name": "python3"
  },
  "language_info": {
   "codemirror_mode": {
    "name": "ipython",
    "version": 3
   },
   "file_extension": ".py",
   "mimetype": "text/x-python",
   "name": "python",
   "nbconvert_exporter": "python",
   "pygments_lexer": "ipython3",
   "version": "3.9.6"
  }
 },
 "nbformat": 4,
 "nbformat_minor": 5
}
